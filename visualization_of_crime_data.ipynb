import matplotlib.pyplot as plt
crime_desc_column = 'Crm Cd Desc'

if crime_desc_column in data.columns:
    # Count the occurrences of each crime type
    crime_counts = data[crime_desc_column].value_counts()
    
    # Plot the bar chart for the topmost crimes committed
    plt.figure(figsize=(12, 6))
    crime_counts.head(10).plot(kind='bar')
    plt.title('Top 10 Most Common Crimes Committed')
    plt.xlabel('Crime Type')
    plt.ylabel('Number of Occurrences')
    plt.xticks(rotation=45, ha='right')
    plt.show()
else:
    print(f"Error: The column '{crime_desc_column}' is not in the dataset.")



file_path = 'The_Case_of_the_Predictive_Crime_Solver.csv'
crime_data = pd.read_csv(file_path)

# Filter out necessary columns
crime_data_filtered = crime_data[['Crm Cd Desc', 'Vict Sex']]

# Count crimes per sex of victim
crime_count_per_sex = crime_data_filtered['Vict Sex'].value_counts()

# Plotting the pie chart
plt.figure(figsize=(8, 8))
plt.pie(crime_count_per_sex, labels=crime_count_per_sex.index, autopct='%1.1f%%', startangle=140)
plt.title('Distribution of Crimes Committed per Victim of Sex')
plt.axis('equal')  # Equal aspect ratio ensures that pie is drawn as a circle.
plt.show()



time_occ_column = 'TIME OCC'

if time_occ_column in data.columns:
    # Convert the 'TIME OCC' column to a string to handle it correctly
    data[time_occ_column] = data[time_occ_column].astype(str).str.zfill(4)
    
    # Extract the hour from the 'TIME OCC' column
    data['Hour'] = data[time_occ_column].str[:2].astype(int)
    
    # Plot the histogram for crimes committed based on the time of day
    plt.figure(figsize=(12, 6))
    plt.hist(data['Hour'], bins=24, edgecolor='black')
    plt.title('Crimes Committed Based on Time of Day')
    plt.xlabel('Hour of the Day')
    plt.ylabel('Number of Crimes')
    plt.xticks(range(0, 24))
    plt.grid(True)
    plt.show()
else:
    print(f"Error: The column '{time_occ_column}' is not in the dataset.")



crime_count_per_area = crime_data['AREA NAME'].value_counts().head(10)

# Plotting the bar chart for top 10 crime areas
plt.figure(figsize=(12, 6))
crime_count_per_area.plot(kind='bar', color='skyblue')
plt.title('Top 10 Crime Areas')
plt.xlabel('Area')
plt.ylabel('Number of Crimes')
plt.xticks(rotation=45)
plt.show()


crime_data_filtered = crime_data[pd.to_numeric(crime_data['Vict Age'], errors='coerce').notnull()]

# Convert Vict Age to numeric
crime_data_filtered['Vict Age'] = pd.to_numeric(crime_data_filtered['Vict Age'])

# Plotting the scatter plot for distribution of victim age
plt.figure(figsize=(12, 6))
plt.scatter(crime_data_filtered.index, crime_data_filtered['Vict Age'], alpha=0.5, color='blue')
plt.title('Distribution of Victim Age')
plt.xlabel('Index')
plt.ylabel('Victim Age')
plt.show()
