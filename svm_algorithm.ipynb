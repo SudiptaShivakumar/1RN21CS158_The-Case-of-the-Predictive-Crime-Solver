from sklearn.model_selection import train_test_split
from sklearn.svm import SVR, SVC
from sklearn.metrics import mean_squared_error, accuracy_score

def train_and_evaluate_svm(X, y, model_type='regressor', kernel='rbf'):
    X_train, X_test, y_train, y_test = train_test_split(X, y, test_size=0.3, random_state=42)
    if model_type == 'regressor':
        model = SVR(kernel=kernel)
    else:
        model = SVC(kernel=kernel)
    model.fit(X_train, y_train)
    y_pred = model.predict(X_test)
    if model_type == 'regressor':
        error = mean_squared_error(y_test, y_pred)
        print(f'Mean Squared Error: {error}')
    else:
        accuracy = accuracy_score(y_test, y_pred)
        print(f'Accuracy: {accuracy}')
    return model
# Select features and target for each prediction

# 1. Predict Time (Hour)
features_time = ['Year', 'Month', 'Day', 'DayOfWeek', 'LAT', 'LON', 'Vict Age'] + [col for col in crime_data.columns if col.startswith('AREA NAME_') or col.startswith('Crm Cd Desc_')]
X_time = crime_data[features_time]
y_time = crime_data['Hour']
print("Predicting Hour of Crime with SVM:")
model_time = train_and_evaluate_svm(X_time, y_time, model_type='regressor', kernel='rbf')

# 2. Predict Date (DayOfWeek)
features_date = ['LAT', 'LON', 'Vict Age', 'Hour'] + [col for col in crime_data.columns if col.startswith('AREA NAME_') or col.startswith('Crm Cd Desc_')]
X_date = crime_data[features_date]
y_date = crime_data['DayOfWeek']
print("Predicting DayOfWeek of Crime with SVM:")
model_date = train_and_evaluate_svm(X_date, y_date, model_type='classifier', kernel='rbf')

# 3. Predict Victim Type (Vict Sex)
features_victim_type = ['Year', 'Month', 'Day', 'DayOfWeek', 'Hour', 'LAT', 'LON', 'Vict Age'] + [col for col in crime_data.columns if col.startswith('AREA NAME_') or col.startswith('Crm Cd Desc_')]
X_victim_type = crime_data[features_victim_type]
y_victim_type = crime_data['Vict Sex']  # Example for predicting female victims
print("Predicting Victim Sex with SVM:")
model_victim_type = train_and_evaluate_svm(X_victim_type, y_victim_type, model_type='classifier', kernel='rbf')

# 4. Predict Place (AREA NAME)
features_place = ['Year', 'Month', 'Day', 'DayOfWeek', 'Hour', 'LAT', 'LON', 'Vict Age'] + [col for col in crime_data.columns if col.startswith('Crm Cd Desc_')]
X_place = crime_data[features_place]
y_place = crime_data['AREA NAME_CENTRAL']  # Example for predicting 'CENTRAL' area
print("Predicting Place of Crime with SVM:")
model_place = train_and_evaluate_svm(X_place, y_place, model_type='classifier', kernel='rbf')

# 5. Predict Victim Age
features_victim_age = ['Year', 'Month', 'Day', 'DayOfWeek', 'Hour', 'LAT', 'LON'] + [col for col in crime_data.columns if col.startswith('AREA NAME_') or col.startswith('Crm Cd Desc_')]
X_victim_age = crime_data[features_victim_age]
y_victim_age = crime_data['Vict Age']
print("Predicting Victim Age with SVM:")
model_victim_age = train_and_evaluate_svm(X_victim_age, y_victim_age, model_type='regressor', kernel='rbf')

# 6. Predict Coordinates (LAT, LON)
features_coordinates = ['Year', 'Month', 'Day', 'DayOfWeek', 'Hour', 'Vict Age'] + [col for col in crime_data.columns if col.startswith('AREA NAME_') or col.startswith('Crm Cd Desc_')]
X_coordinates = crime_data[features_coordinates]
y_lat = crime_data['LAT']
y_lon = crime_data['LON']
print("Predicting Latitude of Crime with SVM:")
model_lat = train_and_evaluate_svm(X_coordinates, y_lat, model_type='regressor', kernel='rbf')
print("Predicting Longitude of Crime with SVM:")
model_lon = train_and_evaluate_svm(X_coordinates, y_lon, model_type='regressor', kernel='rbf')
