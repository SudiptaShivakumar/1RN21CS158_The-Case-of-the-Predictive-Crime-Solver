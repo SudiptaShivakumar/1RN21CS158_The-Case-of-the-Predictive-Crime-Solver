import pandas as pd

# Load the CSV file
file_path = 'The_Case_of_the_Predictive_Crime_Solver.csv'
crime_data = pd.read_csv(file_path)

print(crime_data.head())

print(crime_data.info())
for column in crime_data.columns:
    if pd.api.types.is_numeric_dtype(crime_data[column]):
        crime_data[column].fillna(crime_data[column].median(), inplace=True)
    else:
        crime_data[column].fillna(crime_data[column].mode()[0], inplace=True)

print(crime_data.isnull().sum())
crime_data['DATE OCC'] = pd.to_datetime(crime_data['DATE OCC'])

crime_data['Year'] = crime_data['DATE OCC'].dt.year
crime_data['Month'] = crime_data['DATE OCC'].dt.month
crime_data['Day'] = crime_data['DATE OCC'].dt.day
crime_data['DayOfWeek'] = crime_data['DATE OCC'].dt.dayofweek
crime_data['Hour'] = crime_data['DATE OCC'].dt.hour

categorical_columns = ['AREA NAME', 'Crm Cd Desc', 'Vict Sex', 'Vict Descent', 'Premis Desc', 'Weapon Desc']
crime_data = pd.get_dummies(crime_data, columns=categorical_columns, drop_first=True)
